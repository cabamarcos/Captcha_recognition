{
  "nbformat": 4,
  "nbformat_minor": 0,
  "metadata": {
    "colab": {
      "provenance": [],
      "authorship_tag": "ABX9TyM5VzYj6Ul3BQXsE1I8bWGB",
      "include_colab_link": true
    },
    "kernelspec": {
      "name": "python3",
      "display_name": "Python 3"
    },
    "language_info": {
      "name": "python"
    }
  },
  "cells": [
    {
      "cell_type": "markdown",
      "metadata": {
        "id": "view-in-github",
        "colab_type": "text"
      },
      "source": [
        "<a href=\"https://colab.research.google.com/github/cabamarcos/Captcha_recognition/blob/main/generar_captchas.ipynb\" target=\"_parent\"><img src=\"https://colab.research.google.com/assets/colab-badge.svg\" alt=\"Open In Colab\"/></a>"
      ]
    },
    {
      "cell_type": "code",
      "source": [
        "pip install captcha\n"
      ],
      "metadata": {
        "colab": {
          "base_uri": "https://localhost:8080/"
        },
        "id": "Vrn8V73H6dIH",
        "outputId": "172614b9-54c9-40cf-cc88-6a57fde54b76"
      },
      "execution_count": null,
      "outputs": [
        {
          "output_type": "stream",
          "name": "stdout",
          "text": [
            "Collecting captcha\n",
            "  Downloading captcha-0.5.0-py3-none-any.whl (102 kB)\n",
            "\u001b[2K     \u001b[90m━━━━━━━━━━━━━━━━━━━━━━━━━━━━━━━━━━━━━━━━\u001b[0m \u001b[32m102.2/102.2 kB\u001b[0m \u001b[31m1.5 MB/s\u001b[0m eta \u001b[36m0:00:00\u001b[0m\n",
            "\u001b[?25hRequirement already satisfied: Pillow in /usr/local/lib/python3.10/dist-packages (from captcha) (9.4.0)\n",
            "Installing collected packages: captcha\n",
            "Successfully installed captcha-0.5.0\n"
          ]
        }
      ]
    },
    {
      "cell_type": "code",
      "execution_count": null,
      "metadata": {
        "colab": {
          "base_uri": "https://localhost:8080/"
        },
        "id": "OEWcFLDo6YHJ",
        "outputId": "c073cac6-6eb0-4974-de2e-acc49e8a06f6"
      },
      "outputs": [
        {
          "output_type": "stream",
          "name": "stdout",
          "text": [
            "Captcha generado: 1q7zm\n",
            "Imagen de captcha guardada como '1q7zm.png'\n"
          ]
        }
      ],
      "source": [
        "from captcha.image import ImageCaptcha\n",
        "from PIL import Image\n",
        "import random\n",
        "\n",
        "def generar_captcha(longitud=5):\n",
        "    caracteres = \"abcdefghijklmnopqrstuvwxyz123456789\"\n",
        "    captcha_texto = ''.join(random.choice(caracteres) for _ in range(longitud))\n",
        "    return captcha_texto\n",
        "\n",
        "def generar_imagen_captcha(texto, tamano_fuente=30):\n",
        "    # Calcular el ancho necesario en función de la longitud del texto\n",
        "    ancho_letra = 30  # Ajusta según sea necesario\n",
        "    espaciado_letra = 5  # Ajusta según sea necesario\n",
        "    ancho = len(texto) * (ancho_letra + espaciado_letra) - espaciado_letra\n",
        "\n",
        "    # Crear la imagen con las dimensiones especificadas y tamaño de fuente ajustado\n",
        "    image_captcha = ImageCaptcha(font_sizes=(tamano_fuente,), width=200, height=50)\n",
        "    imagen = image_captcha.generate_image(texto)\n",
        "\n",
        "    # Cambiar el color de fondo a blanco\n",
        "    fondo_blanco = Image.new('RGB', (200, 50), color='white')\n",
        "    fondo_blanco.paste(imagen, (0, 0))\n",
        "\n",
        "    # Guardar la imagen con el nombre del texto del captcha\n",
        "    fondo_blanco.save(f\"{texto}.png\")\n",
        "\n",
        "if __name__ == \"__main__\":\n",
        "    captcha_texto = generar_captcha()\n",
        "    print(\"Captcha generado:\", captcha_texto)\n",
        "\n",
        "    generar_imagen_captcha(captcha_texto)\n",
        "    print(f\"Imagen de captcha guardada como '{captcha_texto}.png'\")\n"
      ]
    },
    {
      "cell_type": "code",
      "source": [
        "from captcha.image import ImageCaptcha\n",
        "from PIL import Image\n",
        "import random\n",
        "\n",
        "def generar_captcha(longitud=5):\n",
        "    caracteres = \"abcdefghijklmnopqrstuvwxyz123456789\"\n",
        "    captcha_texto = ''.join(random.choice(caracteres) for _ in range(longitud))\n",
        "    return captcha_texto\n",
        "\n",
        "def generar_imagen_captcha(texto, tamano_fuente=30):\n",
        "    # Calcular el ancho necesario en función de la longitud del texto\n",
        "    ancho_letra = 30  # Ajusta según sea necesario\n",
        "    espaciado_letra = 5  # Ajusta según sea necesario\n",
        "    ancho = len(texto) * (ancho_letra + espaciado_letra) - espaciado_letra\n",
        "\n",
        "    # Crear la imagen con las dimensiones especificadas y tamaño de fuente ajustado\n",
        "    image_captcha = ImageCaptcha(font_sizes=(tamano_fuente,), width=200, height=50)\n",
        "    imagen = image_captcha.generate_image(texto)\n",
        "\n",
        "    # Cambiar el color de fondo a blanco\n",
        "    fondo_blanco = Image.new('RGB', (200, 50), color='white')\n",
        "    fondo_blanco.paste(imagen, (0, 0))\n",
        "\n",
        "    # Guardar la imagen con el nombre del texto del captcha\n",
        "    fondo_blanco.save(f\"{texto}.png\")\n",
        "\n",
        "if __name__ == \"__main__\":\n",
        "    captcha_texto = \"zwvyi\"\n",
        "    print(\"Captcha generado:\", captcha_texto)\n",
        "\n",
        "    generar_imagen_captcha(captcha_texto)\n",
        "    print(f\"Imagen de captcha guardada como '{captcha_texto}.png'\")\n"
      ],
      "metadata": {
        "colab": {
          "base_uri": "https://localhost:8080/"
        },
        "id": "TUP_Oya0_6oz",
        "outputId": "da6b6bc0-6cde-4a05-a37c-02300c85b481"
      },
      "execution_count": null,
      "outputs": [
        {
          "output_type": "stream",
          "name": "stdout",
          "text": [
            "Captcha generado: zwvyi\n",
            "Imagen de captcha guardada como 'zwvyi.png'\n"
          ]
        }
      ]
    },
    {
      "cell_type": "code",
      "source": [
        "from PIL import Image, ImageDraw, ImageFont\n",
        "import random\n",
        "\n",
        "from PIL import Image, ImageDraw, ImageFont\n",
        "import random\n",
        "\n",
        "def generar_captcha(longitud=5):\n",
        "    caracteres = \"abcdefghijklmnopqrstuvwxyz0123456789\"\n",
        "    captcha_texto = ''.join(random.choice(caracteres) for _ in range(longitud))\n",
        "    return captcha_texto\n",
        "\n",
        "def generar_imagen_captcha(texto, tamano_fuente=50, ancho_imagen=200, alto_imagen=50):\n",
        "    imagen = Image.new('RGB', (ancho_imagen, alto_imagen), color='white')\n",
        "    draw = ImageDraw.Draw(imagen)\n",
        "\n",
        "    # Calcular la posición de inicio para centrar el texto en la imagen\n",
        "    ancho_letra = tamano_fuente * 0.7  # Ajusta según sea necesario\n",
        "    espaciado_letra = 1  # Ajusta según sea necesario\n",
        "    total_ancho_texto = len(texto) * (ancho_letra - espaciado_letra) + espaciado_letra\n",
        "    x_inicio = (ancho_imagen - total_ancho_texto) // 2 + 17  # Ajusta la posición horizontal\n",
        "    y_inicio = (alto_imagen - tamano_fuente) // 2 + 20   # Ajusta la posición vertical\n",
        "\n",
        "    # Dibujar cada letra en la posición fija\n",
        "    for caracter in texto:\n",
        "        font = ImageFont.load_default()  # Puedes ajustar esto para obtener un tipo de letra diferente\n",
        "        draw.text((x_inicio, y_inicio), caracter, font=font, fill='black')\n",
        "        x_inicio += ancho_letra - espaciado_letra\n",
        "\n",
        "    # Guardar la imagen con el nombre del texto del captcha\n",
        "    imagen.save(f\"{texto}.png\")\n",
        "\n",
        "if __name__ == \"__main__\":\n",
        "    captcha_texto = generar_captcha()\n",
        "    print(\"Captcha generado:\", captcha_texto)\n",
        "\n",
        "    generar_imagen_captcha(captcha_texto)\n",
        "    print(f\"Imagen de captcha guardada como '{captcha_texto}.png'\")\n"
      ],
      "metadata": {
        "colab": {
          "base_uri": "https://localhost:8080/"
        },
        "id": "nY7SokEftPxl",
        "outputId": "797b83aa-ff7e-4b40-94ea-d85b27dc4ea2"
      },
      "execution_count": null,
      "outputs": [
        {
          "output_type": "stream",
          "name": "stdout",
          "text": [
            "Captcha generado: v01ti\n",
            "Imagen de captcha guardada como 'v01ti.png'\n"
          ]
        }
      ]
    }
  ]
}